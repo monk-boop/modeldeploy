{
  "nbformat": 4,
  "nbformat_minor": 0,
  "metadata": {
    "colab": {
      "name": "Sgmoid assignemnt.ipynb",
      "provenance": [],
      "collapsed_sections": []
    },
    "kernelspec": {
      "name": "python3",
      "display_name": "Python 3"
    },
    "accelerator": "GPU"
  },
  "cells": [
    {
      "cell_type": "code",
      "metadata": {
        "id": "G4-j3OxGW_0x"
      },
      "source": [
        "import os\r\n",
        "import numpy as np\r\n",
        "import cv2\r\n",
        "from tqdm import tqdm\r\n",
        "from sklearn.model_selection import train_test_split"
      ],
      "execution_count": 2,
      "outputs": []
    },
    {
      "cell_type": "code",
      "metadata": {
        "colab": {
          "base_uri": "https://localhost:8080/"
        },
        "id": "BU_ZlHnZsNue",
        "outputId": "857d50c2-4464-4e3a-aab6-093f8c450a19"
      },
      "source": [
        "%tensorflow_version 2.0.0\r\n",
        "import tensorflow\r\n",
        "print(tensorflow.__version__)"
      ],
      "execution_count": 1,
      "outputs": [
        {
          "output_type": "stream",
          "text": [
            "`%tensorflow_version` only switches the major version: 1.x or 2.x.\n",
            "You set: `2.0.0`. This will be interpreted as: `2.x`.\n",
            "\n",
            "\n",
            "TensorFlow 2.x selected.\n",
            "2.4.0\n"
          ],
          "name": "stdout"
        }
      ]
    },
    {
      "cell_type": "code",
      "metadata": {
        "colab": {
          "base_uri": "https://localhost:8080/"
        },
        "id": "P-2S43Q_ssI-",
        "outputId": "6b3a4868-e3b3-4397-952a-5195dc2cf07a"
      },
      "source": [
        "#import keras\r\n",
        "#print(keras.__version__)"
      ],
      "execution_count": null,
      "outputs": [
        {
          "output_type": "stream",
          "text": [
            "2.4.3\n"
          ],
          "name": "stdout"
        }
      ]
    },
    {
      "cell_type": "code",
      "metadata": {
        "colab": {
          "base_uri": "https://localhost:8080/"
        },
        "id": "5BUt986ztJUy",
        "outputId": "0f4c0ac0-ce08-47ef-8d98-37aaf317f4c3"
      },
      "source": [
        "!python --version"
      ],
      "execution_count": null,
      "outputs": [
        {
          "output_type": "stream",
          "text": [
            "Python 3.6.9\n"
          ],
          "name": "stdout"
        }
      ]
    },
    {
      "cell_type": "code",
      "metadata": {
        "id": "c0_DZx9bZ_aQ"
      },
      "source": [
        "from tensorflow.keras.models import Model\r\n",
        "from tensorflow.keras.layers import Conv2D, Input, Concatenate\r\n",
        "from tensorflow.keras.callbacks import EarlyStopping, ModelCheckpoint"
      ],
      "execution_count": 4,
      "outputs": []
    },
    {
      "cell_type": "code",
      "metadata": {
        "id": "wQak_kgcQAVq"
      },
      "source": [
        "TRAIN_IMAGE_DIR = '/content/drive/MyDrive/Salt Identification/train/images/'\r\n",
        "TRAIN_MASK_DIR = '/content/drive/MyDrive/Salt Identification/train/masks/'"
      ],
      "execution_count": 5,
      "outputs": []
    },
    {
      "cell_type": "code",
      "metadata": {
        "id": "moWDPm8rQTjp"
      },
      "source": [
        "train_fns = os.listdir(TRAIN_IMAGE_DIR)"
      ],
      "execution_count": 6,
      "outputs": []
    },
    {
      "cell_type": "code",
      "metadata": {
        "colab": {
          "base_uri": "https://localhost:8080/"
        },
        "id": "rIKGpTwoSYN3",
        "outputId": "4a10ede4-5602-411e-a648-21ac9bfd1018"
      },
      "source": [
        "X = [np.array(cv2.imread(TRAIN_IMAGE_DIR + p, cv2.IMREAD_GRAYSCALE),dtype=np.uint8) for p in tqdm(train_fns)]"
      ],
      "execution_count": 7,
      "outputs": [
        {
          "output_type": "stream",
          "text": [
            "100%|██████████| 4000/4000 [25:10<00:00,  2.65it/s]\n"
          ],
          "name": "stderr"
        }
      ]
    },
    {
      "cell_type": "code",
      "metadata": {
        "id": "hkTDxT12RiIV"
      },
      "source": [
        "#divide by 255 to remove distortions\r\n",
        "X = np.array(X)/255\r\n",
        "X = np.expand_dims(X,axis=3)"
      ],
      "execution_count": 8,
      "outputs": []
    },
    {
      "cell_type": "code",
      "metadata": {
        "colab": {
          "base_uri": "https://localhost:8080/"
        },
        "id": "fRQBmegIXL7D",
        "outputId": "984436f8-4462-4b5d-fa89-a834a8ab082e"
      },
      "source": [
        "y = [np.array(cv2.imread(TRAIN_MASK_DIR + p, cv2.IMREAD_GRAYSCALE), dtype=np.uint8) for p in tqdm(train_fns)]\r\n",
        "y = np.array(y)/255\r\n",
        "y = np.expand_dims(y,axis=3)"
      ],
      "execution_count": 9,
      "outputs": [
        {
          "output_type": "stream",
          "text": [
            "100%|██████████| 4000/4000 [24:01<00:00,  2.77it/s]\n"
          ],
          "name": "stderr"
        }
      ]
    },
    {
      "cell_type": "code",
      "metadata": {
        "id": "rkaghYPTXuAB"
      },
      "source": [
        "X_train, X_valid, y_train, y_valid = train_test_split(X,y, random_state=23, test_size = 0.2)"
      ],
      "execution_count": 10,
      "outputs": []
    },
    {
      "cell_type": "markdown",
      "metadata": {
        "id": "A8-A3qTB2Fn4"
      },
      "source": [
        "Model Building"
      ]
    },
    {
      "cell_type": "code",
      "metadata": {
        "colab": {
          "base_uri": "https://localhost:8080/"
        },
        "id": "x56YVbi_Z78y",
        "outputId": "c8518096-bbb3-4c8c-d454-d9b76b3dc603"
      },
      "source": [
        "def conv_block(num_layers,inp,units,kernel):\r\n",
        "    x = inp\r\n",
        "    for l in range(num_layers):\r\n",
        "        x = Conv2D(units, kernel_size=kernel, padding='SAME',activation='relu')(x)\r\n",
        "    return x\r\n",
        "\r\n",
        "\r\n",
        "inp = Input(shape=(101,101,1))\r\n",
        "cnn1 = conv_block(4,inp,32,3)\r\n",
        "cnn2 = conv_block(4,inp,24,5)\r\n",
        "cnn3 = conv_block(4,inp,16,7)\r\n",
        "concat = Concatenate()([cnn1,cnn2,cnn3])\r\n",
        "d1 = Conv2D(16,1, activation='relu')(concat)\r\n",
        "out = Conv2D(1,1, activation='sigmoid')(d1)\r\n",
        "\r\n",
        "model = Model(inputs = inp, outputs = out)\r\n",
        "model.summary()\r\n",
        "model.compile(optimizer='adam',loss='binary_crossentropy',metrics=tensorflow.keras.metrics.MeanIoU(num_classes=2))\r\n",
        "\r\n",
        "#early_stop = EarlyStopping(patience=5)\r\n",
        "#check_point = ModelCheckpoint('model.hdf5',save_best_only=True)\r\n",
        "model.fit(X_train,y_train, epochs=20, validation_data=(X_valid,y_valid), batch_size=128)\r\n",
        "model.save('first_model.h5')"
      ],
      "execution_count": 12,
      "outputs": [
        {
          "output_type": "stream",
          "text": [
            "Model: \"model_1\"\n",
            "__________________________________________________________________________________________________\n",
            "Layer (type)                    Output Shape         Param #     Connected to                     \n",
            "==================================================================================================\n",
            "input_2 (InputLayer)            [(None, 101, 101, 1) 0                                            \n",
            "__________________________________________________________________________________________________\n",
            "conv2d_14 (Conv2D)              (None, 101, 101, 32) 320         input_2[0][0]                    \n",
            "__________________________________________________________________________________________________\n",
            "conv2d_18 (Conv2D)              (None, 101, 101, 24) 624         input_2[0][0]                    \n",
            "__________________________________________________________________________________________________\n",
            "conv2d_22 (Conv2D)              (None, 101, 101, 16) 800         input_2[0][0]                    \n",
            "__________________________________________________________________________________________________\n",
            "conv2d_15 (Conv2D)              (None, 101, 101, 32) 9248        conv2d_14[0][0]                  \n",
            "__________________________________________________________________________________________________\n",
            "conv2d_19 (Conv2D)              (None, 101, 101, 24) 14424       conv2d_18[0][0]                  \n",
            "__________________________________________________________________________________________________\n",
            "conv2d_23 (Conv2D)              (None, 101, 101, 16) 12560       conv2d_22[0][0]                  \n",
            "__________________________________________________________________________________________________\n",
            "conv2d_16 (Conv2D)              (None, 101, 101, 32) 9248        conv2d_15[0][0]                  \n",
            "__________________________________________________________________________________________________\n",
            "conv2d_20 (Conv2D)              (None, 101, 101, 24) 14424       conv2d_19[0][0]                  \n",
            "__________________________________________________________________________________________________\n",
            "conv2d_24 (Conv2D)              (None, 101, 101, 16) 12560       conv2d_23[0][0]                  \n",
            "__________________________________________________________________________________________________\n",
            "conv2d_17 (Conv2D)              (None, 101, 101, 32) 9248        conv2d_16[0][0]                  \n",
            "__________________________________________________________________________________________________\n",
            "conv2d_21 (Conv2D)              (None, 101, 101, 24) 14424       conv2d_20[0][0]                  \n",
            "__________________________________________________________________________________________________\n",
            "conv2d_25 (Conv2D)              (None, 101, 101, 16) 12560       conv2d_24[0][0]                  \n",
            "__________________________________________________________________________________________________\n",
            "concatenate_1 (Concatenate)     (None, 101, 101, 72) 0           conv2d_17[0][0]                  \n",
            "                                                                 conv2d_21[0][0]                  \n",
            "                                                                 conv2d_25[0][0]                  \n",
            "__________________________________________________________________________________________________\n",
            "conv2d_26 (Conv2D)              (None, 101, 101, 16) 1168        concatenate_1[0][0]              \n",
            "__________________________________________________________________________________________________\n",
            "conv2d_27 (Conv2D)              (None, 101, 101, 1)  17          conv2d_26[0][0]                  \n",
            "==================================================================================================\n",
            "Total params: 111,625\n",
            "Trainable params: 111,625\n",
            "Non-trainable params: 0\n",
            "__________________________________________________________________________________________________\n",
            "Epoch 1/20\n",
            "25/25 [==============================] - 17s 336ms/step - loss: 0.6142 - mean_io_u: 0.3751 - val_loss: 0.5615 - val_mean_io_u: 0.3771\n",
            "Epoch 2/20\n",
            "25/25 [==============================] - 8s 318ms/step - loss: 0.5567 - mean_io_u: 0.3778 - val_loss: 0.5325 - val_mean_io_u: 0.3771\n",
            "Epoch 3/20\n",
            "25/25 [==============================] - 8s 324ms/step - loss: 0.5308 - mean_io_u: 0.3735 - val_loss: 0.4922 - val_mean_io_u: 0.3771\n",
            "Epoch 4/20\n",
            "25/25 [==============================] - 8s 321ms/step - loss: 0.4990 - mean_io_u: 0.3736 - val_loss: 0.4795 - val_mean_io_u: 0.3771\n",
            "Epoch 5/20\n",
            "25/25 [==============================] - 8s 324ms/step - loss: 0.4742 - mean_io_u: 0.3747 - val_loss: 0.4600 - val_mean_io_u: 0.3771\n",
            "Epoch 6/20\n",
            "25/25 [==============================] - 8s 327ms/step - loss: 0.4605 - mean_io_u: 0.3677 - val_loss: 0.4322 - val_mean_io_u: 0.3771\n",
            "Epoch 7/20\n",
            "25/25 [==============================] - 8s 330ms/step - loss: 0.4347 - mean_io_u: 0.3761 - val_loss: 0.4387 - val_mean_io_u: 0.3771\n",
            "Epoch 8/20\n",
            "25/25 [==============================] - 8s 333ms/step - loss: 0.4179 - mean_io_u: 0.3728 - val_loss: 0.3957 - val_mean_io_u: 0.3771\n",
            "Epoch 9/20\n",
            "25/25 [==============================] - 8s 337ms/step - loss: 0.3984 - mean_io_u: 0.3785 - val_loss: 0.3954 - val_mean_io_u: 0.3771\n",
            "Epoch 10/20\n",
            "25/25 [==============================] - 9s 342ms/step - loss: 0.4039 - mean_io_u: 0.3697 - val_loss: 0.3825 - val_mean_io_u: 0.3771\n",
            "Epoch 11/20\n",
            "25/25 [==============================] - 9s 347ms/step - loss: 0.3863 - mean_io_u: 0.3765 - val_loss: 0.3958 - val_mean_io_u: 0.3771\n",
            "Epoch 12/20\n",
            "25/25 [==============================] - 9s 350ms/step - loss: 0.3802 - mean_io_u: 0.3784 - val_loss: 0.3780 - val_mean_io_u: 0.3771\n",
            "Epoch 13/20\n",
            "25/25 [==============================] - 9s 349ms/step - loss: 0.3742 - mean_io_u: 0.3741 - val_loss: 0.3994 - val_mean_io_u: 0.3771\n",
            "Epoch 14/20\n",
            "25/25 [==============================] - 9s 345ms/step - loss: 0.3910 - mean_io_u: 0.3769 - val_loss: 0.3715 - val_mean_io_u: 0.3771\n",
            "Epoch 15/20\n",
            "25/25 [==============================] - 9s 344ms/step - loss: 0.3605 - mean_io_u: 0.3755 - val_loss: 0.3642 - val_mean_io_u: 0.3771\n",
            "Epoch 16/20\n",
            "25/25 [==============================] - 9s 342ms/step - loss: 0.3543 - mean_io_u: 0.3771 - val_loss: 0.3786 - val_mean_io_u: 0.3771\n",
            "Epoch 17/20\n",
            "25/25 [==============================] - 9s 342ms/step - loss: 0.3729 - mean_io_u: 0.3768 - val_loss: 0.3732 - val_mean_io_u: 0.3771\n",
            "Epoch 18/20\n",
            "25/25 [==============================] - 9s 342ms/step - loss: 0.3649 - mean_io_u: 0.3774 - val_loss: 0.3569 - val_mean_io_u: 0.3771\n",
            "Epoch 19/20\n",
            "25/25 [==============================] - 9s 343ms/step - loss: 0.3670 - mean_io_u: 0.3715 - val_loss: 0.3736 - val_mean_io_u: 0.3771\n",
            "Epoch 20/20\n",
            "25/25 [==============================] - 9s 343ms/step - loss: 0.3653 - mean_io_u: 0.3774 - val_loss: 0.3610 - val_mean_io_u: 0.3771\n"
          ],
          "name": "stdout"
        }
      ]
    },
    {
      "cell_type": "code",
      "metadata": {
        "id": "x30RTFDQPvAO"
      },
      "source": [
        "model.save('/content/first_model.h5')"
      ],
      "execution_count": 13,
      "outputs": []
    },
    {
      "cell_type": "code",
      "metadata": {
        "id": "RAtwGgkQS5An"
      },
      "source": [
        "from tensorflow.keras.models import load_model"
      ],
      "execution_count": 14,
      "outputs": []
    },
    {
      "cell_type": "code",
      "metadata": {
        "id": "YEoelh9gSaFR"
      },
      "source": [
        "models = load_model('/content/first_model.h5')\r\n",
        "X_input = [np.array(cv2.imread('/content/000a68e46c.png', cv2.IMREAD_GRAYSCALE),dtype=np.uint8)]\r\n",
        "X_input = np.array(X_input)/255\r\n",
        "X_input = np.expand_dims(X_input,axis=3)\r\n",
        "img = models.predict(X_input)"
      ],
      "execution_count": 15,
      "outputs": []
    },
    {
      "cell_type": "code",
      "metadata": {
        "id": "Duk8lJDzTU-M"
      },
      "source": [
        "from PIL import Image\r\n",
        "img = img.reshape(101, 101)\r\n",
        "im = Image.fromarray((img * 255))"
      ],
      "execution_count": 16,
      "outputs": []
    },
    {
      "cell_type": "code",
      "metadata": {
        "id": "mDsHNeT_UWA0"
      },
      "source": [
        "if im.mode != 'RGB':\r\n",
        "    im = im.convert('RGB')"
      ],
      "execution_count": 17,
      "outputs": []
    },
    {
      "cell_type": "code",
      "metadata": {
        "colab": {
          "base_uri": "https://localhost:8080/"
        },
        "id": "aGLU9GFYUj_j",
        "outputId": "a5f4f61f-2c34-4857-b0b3-28e47914d9c6"
      },
      "source": [
        "im.save('/content/gfg_dummy_pic.png') "
      ],
      "execution_count": 18,
      "outputs": [
        {
          "output_type": "execute_result",
          "data": {
            "text/plain": [
              "(1, 101, 101)"
            ]
          },
          "metadata": {
            "tags": []
          },
          "execution_count": 18
        }
      ]
    },
    {
      "cell_type": "markdown",
      "metadata": {
        "id": "I_6hs_9CvrX3"
      },
      "source": [
        "### Model output"
      ]
    },
    {
      "cell_type": "code",
      "metadata": {
        "colab": {
          "base_uri": "https://localhost:8080/",
          "height": 285
        },
        "id": "p9qCvJ0wvQuF",
        "outputId": "dcb94b54-b1d9-4325-e421-b183c7bd1796"
      },
      "source": [
        "%pylab inline\r\n",
        "import matplotlib.pyplot as plt\r\n",
        "import matplotlib.image as mpimg\r\n",
        "img = mpimg.imread('/content/gfg_dummy_pic.png')\r\n",
        "imgplot = plt.imshow(img)\r\n",
        "plt.show()"
      ],
      "execution_count": 26,
      "outputs": [
        {
          "output_type": "stream",
          "text": [
            "Populating the interactive namespace from numpy and matplotlib\n"
          ],
          "name": "stdout"
        },
        {
          "output_type": "display_data",
          "data": {
            "image/png": "[encoded data removed]",
            "text/plain": [
              "<Figure size 432x288 with 1 Axes>"
            ]
          },
          "metadata": {
            "tags": [],
            "needs_background": "light"
          }
        }
      ]
    },
    {
      "cell_type": "markdown",
      "metadata": {
        "id": "0KXJMCZivtkT"
      },
      "source": [
        "### Model Input"
      ]
    },
    {
      "cell_type": "code",
      "metadata": {
        "colab": {
          "base_uri": "https://localhost:8080/",
          "height": 285
        },
        "id": "rvRvDaQDvkRd",
        "outputId": "8b68f329-7595-4423-c881-c9af7457eb91"
      },
      "source": [
        "%pylab inline\r\n",
        "import matplotlib.pyplot as plt\r\n",
        "import matplotlib.image as mpimg\r\n",
        "img = mpimg.imread('/content/000a68e46c.png')\r\n",
        "imgplot = plt.imshow(img)\r\n",
        "plt.show()"
      ],
      "execution_count": 27,
      "outputs": [
        {
          "output_type": "stream",
          "text": [
            "Populating the interactive namespace from numpy and matplotlib\n"
          ],
          "name": "stdout"
        },
        {
          "output_type": "display_data",
          "data": {
            "image/png": "[encoded data removed]",
            "text/plain": [
              "<Figure size 432x288 with 1 Axes>"
            ]
          },
          "metadata": {
            "tags": [],
            "needs_background": "light"
          }
        }
      ]
    },
    {
      "cell_type": "code",
      "metadata": {
        "id": "7D83OwwZbXgf"
      },
      "source": [
        ""
      ],
      "execution_count": null,
      "outputs": []
    }
  ]
}